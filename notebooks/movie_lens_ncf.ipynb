{
 "cells": [
  {
   "cell_type": "markdown",
   "metadata": {},
   "source": [
    "# Neural Collaborative Filtering (NCF)\n",
    "Use more deep learning and collaborative filtering for recommenders systems."
   ]
  },
  {
   "cell_type": "code",
   "execution_count": null,
   "metadata": {},
   "outputs": [],
   "source": [
    "import numpy as np\n",
    "import pandas as pd\n",
    "from libreco.data import random_split, DatasetPure # use pure ratings only\n",
    "from libreco.algorithms import NCF\n",
    "from libreco.evaluation import evaluate"
   ]
  },
  {
   "cell_type": "code",
   "execution_count": 2,
   "metadata": {},
   "outputs": [],
   "source": [
    "ratings_path = \"../data/ml-latest-small/ratings.csv\"\n",
    "movies_path = \"../data/ml-latest-small/movies.csv\"\n",
    "\n",
    "ratings = pd.read_csv(ratings_path)\n",
    "movies = pd.read_csv(movies_path)\n",
    "\n",
    "ratings.columns = [\"user\", \"item\", \"label\", \"time\"]\n",
    "movies.columns = [\"movieID\", \"Title\", \"Genres\"]"
   ]
  },
  {
   "cell_type": "code",
   "execution_count": 3,
   "metadata": {},
   "outputs": [],
   "source": [
    "# random split\n",
    "training_set, evaluation_set, testing_set = random_split(ratings, multi_ratios=[0.8, 0.1, 0.1])\n",
    "# convert into LibRecommender data format\n",
    "training_set, data_info = DatasetPure.build_trainset(training_set)\n",
    "evaluation_set = DatasetPure.build_evalset(evaluation_set)\n",
    "testing_set = DatasetPure.build_testset(testing_set)"
   ]
  },
  {
   "cell_type": "code",
   "execution_count": null,
   "metadata": {},
   "outputs": [],
   "source": [
    "# define model instance\n",
    "ncf = NCF(task=\"rating\", data_info=data_info)\n",
    "\n",
    "# train\n",
    "ncf.fit(\n",
    "    training_set,\n",
    "    neg_sampling=False, # use only explicit-ratings\n",
    "    verbose=2,\n",
    "    eval_data=evaluation_set,\n",
    "    metrics=[\"loss\"]\n",
    ")"
   ]
  },
  {
   "cell_type": "code",
   "execution_count": null,
   "metadata": {},
   "outputs": [],
   "source": [
    "# evaluate\n",
    "evaluate(\n",
    "    model=ncf,\n",
    "    data=testing_set,\n",
    "    neg_sampling=False,\n",
    "    metrics=[\"loss\"]\n",
    ")"
   ]
  },
  {
   "cell_type": "code",
   "execution_count": null,
   "metadata": {},
   "outputs": [],
   "source": [
    "# print a sample user 1 rated to know a little bit more about tastes\n",
    "for idx, row in ratings[ratings.user==1].sample(10):\n",
    "    rating = row['label']\n",
    "    movie = movies[movies.movieID==row['item']]\n",
    "    print(rating, movie['Title'])"
   ]
  },
  {
   "cell_type": "code",
   "execution_count": null,
   "metadata": {},
   "outputs": [],
   "source": [
    "# predict rating of user 1 of movie 1 (toystory)\n",
    "print(ncf.predict(user=1, item=1))\n",
    "# now recommend 10 items for user 1\n",
    "recs = ncf.recommend_user(user=1, n_rec=10)\n",
    "for rec in recs[1]:\n",
    "    print(movies[movies.movieID==rec].Title)"
   ]
  }
 ],
 "metadata": {
  "kernelspec": {
   "display_name": "recommender_systems",
   "language": "python",
   "name": "python3"
  },
  "language_info": {
   "codemirror_mode": {
    "name": "ipython",
    "version": 3
   },
   "file_extension": ".py",
   "mimetype": "text/x-python",
   "name": "python",
   "nbconvert_exporter": "python",
   "pygments_lexer": "ipython3",
   "version": "3.9.19"
  }
 },
 "nbformat": 4,
 "nbformat_minor": 2
}
