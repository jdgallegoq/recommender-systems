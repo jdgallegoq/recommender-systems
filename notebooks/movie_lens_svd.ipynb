{
 "cells": [
  {
   "cell_type": "markdown",
   "metadata": {},
   "source": [
    "# SVD recommendations"
   ]
  },
  {
   "cell_type": "code",
   "execution_count": 1,
   "metadata": {},
   "outputs": [],
   "source": [
    "import os\n",
    "import csv\n",
    "import sys\n",
    "import re\n",
    "\n",
    "from surprise import Dataset\n",
    "from surprise import Reader\n",
    "\n",
    "from collections import defaultdict\n",
    "import numpy as np"
   ]
  },
  {
   "cell_type": "code",
   "execution_count": 2,
   "metadata": {},
   "outputs": [],
   "source": [
    "# define some paths to download data\n",
    "ratingsPath = \"../data/ml-latest-small/ratings.csv\"\n",
    "moviesPath = \"../data/ml-latest-small/movies.csv\"\n",
    "\n",
    "# define reader instance to download data\n",
    "reader = Reader(line_format='user item rating timestamp', sep=',', skip_lines=1)\n",
    "# download dataset to path\n",
    "ratingsDataset = Dataset.load_from_file(ratingsPath, reader=reader)\n",
    "\n",
    "# now parse movies dataset\n",
    "movieID_to_name = {}\n",
    "name_to_movieID = {}\n",
    "with open(moviesPath, newline='', encoding='ISO-8859-1') as csvfile:\n",
    "    movieReader = csv.reader(csvfile)\n",
    "    next(movieReader)\n",
    "    for row in movieReader:\n",
    "        movieID = int(row[0])\n",
    "        movieName = row[1]\n",
    "        movieID_to_name[movieID] = movieName\n",
    "        name_to_movieID[movieName] = movieID"
   ]
  },
  {
   "cell_type": "code",
   "execution_count": 3,
   "metadata": {},
   "outputs": [],
   "source": [
    "# get user ratings from ratingsDataset based on user\n",
    "def getUserRatings(user):\n",
    "    userRatings = []\n",
    "    hitUser = False\n",
    "    with open(ratingsPath, newline='') as csvfile:\n",
    "        ratingReader = csv.reader(csvfile)\n",
    "        next(ratingReader)\n",
    "        for row in ratingReader:\n",
    "            userID = int(row[0])\n",
    "            if (user == userID):\n",
    "                movieID = int(row[1])\n",
    "                rating = float(row[2])\n",
    "                userRatings.append((movieID, rating))\n",
    "                hitUser = True\n",
    "            if (hitUser and (user != userID)):\n",
    "                break\n",
    "\n",
    "    return userRatings"
   ]
  },
  {
   "cell_type": "code",
   "execution_count": 4,
   "metadata": {},
   "outputs": [],
   "source": [
    "# now it is important to get popularity ranks to get some metrics\n",
    "ratings = defaultdict(int)\n",
    "rankings = defaultdict(int)\n",
    "with open(ratingsPath, newline='') as csvfile:\n",
    "    ratingReader = csv.reader(csvfile)\n",
    "    next(ratingReader)\n",
    "    for row in ratingReader:\n",
    "        movieID = int(row[1])\n",
    "        ratings[movieID] += 1\n",
    "    rank = 1\n",
    "    for movieID, ratingCount in sorted(ratings.items(), key=lambda x: x[1], reverse=True):\n",
    "        rankings[movieID] = rank\n",
    "        rank +=1"
   ]
  },
  {
   "cell_type": "code",
   "execution_count": 5,
   "metadata": {},
   "outputs": [],
   "source": [
    "import sys\n",
    "sys.path.append('..')\n",
    "from Framework.EvaluationData import EvaluationData\n",
    "from Framework.RecommenderMetrics import RecommenderMetrics\n",
    "\n",
    "from surprise import SVD, SVDpp\n",
    "from surprise import NormalPredictor"
   ]
  },
  {
   "cell_type": "code",
   "execution_count": 6,
   "metadata": {},
   "outputs": [
    {
     "name": "stdout",
     "output_type": "stream",
     "text": [
      "Estimating biases using als...\n",
      "Computing the cosine similarity matrix...\n",
      "Done computing similarity matrix.\n",
      "RMSE SVD 0.8777448025673252\n",
      "MAE SVD 0.6734751254012374\n",
      "\n",
      "RMSE SVD++ 0.869060784972803\n",
      "MAE SVD++ 0.6652134391099813\n"
     ]
    }
   ],
   "source": [
    "# get evaluation data\n",
    "evaluationData = EvaluationData(ratingsDataset, rankings)\n",
    "# fit svd algorithm\n",
    "svd = SVD().fit(evaluationData.GetTrainSet())\n",
    "predictions = svd.test(evaluationData.GetTestSet())\n",
    "print(\"RMSE SVD\", RecommenderMetrics.RMSE(predictions))\n",
    "print(\"MAE SVD\", RecommenderMetrics.MAE(predictions))\n",
    "print()\n",
    "\n",
    "# fit svd++\n",
    "svdpp = SVDpp().fit(evaluationData.GetTrainSet())\n",
    "predictions = svdpp.test(evaluationData.GetTestSet())\n",
    "print(\"RMSE SVD++\", RecommenderMetrics.RMSE(predictions))\n",
    "print(\"MAE SVD++\", RecommenderMetrics.MAE(predictions))"
   ]
  },
  {
   "cell_type": "code",
   "execution_count": 8,
   "metadata": {},
   "outputs": [],
   "source": [
    "# funtion to ger movie name based on movie ID\n",
    "def getMovieName(movieID):\n",
    "    if movieID in movieID_to_name:\n",
    "        return movieID_to_name[movieID]\n",
    "    else:\n",
    "        return \"\""
   ]
  },
  {
   "cell_type": "code",
   "execution_count": 9,
   "metadata": {},
   "outputs": [
    {
     "name": "stdout",
     "output_type": "stream",
     "text": [
      "########## SVD recommendations ##########\n",
      "One Flew Over the Cuckoo's Nest (1975) 4.417029617121035\n",
      "Fight Club (1999) 4.408305974911228\n",
      "Whiplash (2014) 4.361119454402982\n",
      "Amelie (Fabuleux destin d'AmÃ©lie Poulain, Le) (2001) 4.359927624585454\n",
      "There Will Be Blood (2007) 4.353894110746785\n",
      "Godfather: Part II, The (1974) 4.348907103152077\n",
      "Shawshank Redemption, The (1994) 4.336963693958108\n",
      "Miller's Crossing (1990) 4.32633344844112\n",
      "Usual Suspects, The (1995) 4.32242557087096\n",
      "Apocalypse Now (1979) 4.3215054934201165\n",
      "\n",
      "########## SVD++ recommendations ##########\n",
      "Shawshank Redemption, The (1994) 4.395018314668186\n",
      "Streetcar Named Desire, A (1951) 4.36247970343162\n",
      "Forrest Gump (1994) 4.346441338369155\n",
      "Sunset Blvd. (a.k.a. Sunset Boulevard) (1950) 4.313417345424422\n",
      "Princess Bride, The (1987) 4.289633522110627\n",
      "Dark Knight, The (2008) 4.27066547142905\n",
      "Solaris (Solyaris) (1972) 4.267801986881965\n",
      "Spotlight (2015) 4.266282832953542\n",
      "Monty Python and the Holy Grail (1975) 4.245125648499546\n",
      "Dr. Strangelove or: How I Learned to Stop Worrying and Love the Bomb (1964) 4.23871584683528\n",
      "\n"
     ]
    }
   ],
   "source": [
    "# let's see some recommendations\n",
    "testSubject = 85\n",
    "k = 10\n",
    "\n",
    "trainSet = evaluationData.GetFullTrainSet()\n",
    "testSet = evaluationData.GetAntiTestSetForUser(testSubject)\n",
    "\n",
    "predictions = svd.test(testSet)\n",
    "recommendations = []\n",
    "for userID, movieID, actualRating, EstimatedRating, _ in predictions:\n",
    "    intMovieID = int(movieID)\n",
    "    recommendations.append((intMovieID, EstimatedRating))\n",
    "\n",
    "recommendations.sort(key=lambda x: x[1], reverse=True)\n",
    "\n",
    "print(\"#\"*10, \"SVD recommendations\", \"#\"*10)\n",
    "for ratings in recommendations[:k]:\n",
    "    print(getMovieName(ratings[0]), ratings[1])\n",
    "print()\n",
    "\n",
    "predictions = svdpp.test(testSet)\n",
    "recommendations = []\n",
    "for userID, movieID, actualRating, EstimatedRating, _ in predictions:\n",
    "    intMovieID = int(movieID)\n",
    "    recommendations.append((intMovieID, EstimatedRating))\n",
    "\n",
    "recommendations.sort(key=lambda x: x[1], reverse=True)\n",
    "\n",
    "print(\"#\"*10, \"SVD++ recommendations\", \"#\"*10)\n",
    "for ratings in recommendations[:k]:\n",
    "    print(getMovieName(ratings[0]), ratings[1])\n",
    "print()"
   ]
  },
  {
   "cell_type": "markdown",
   "metadata": {},
   "source": [
    "## Tunning SVD"
   ]
  },
  {
   "cell_type": "code",
   "execution_count": 10,
   "metadata": {},
   "outputs": [],
   "source": [
    "from surprise.model_selection import GridSearchCV"
   ]
  },
  {
   "cell_type": "code",
   "execution_count": 14,
   "metadata": {},
   "outputs": [],
   "source": [
    "# define a param grid\n",
    "param_grid = {\n",
    "    'n_epochs': [20, 30],\n",
    "    'lr_all': [0.005, 0.010],\n",
    "    'n_factors': [50, 100]\n",
    "}\n",
    "gs = GridSearchCV(SVD, param_grid, measures=['rmse', 'mae'], cv=3)\n",
    "gs.fit(ratingsDataset)"
   ]
  },
  {
   "cell_type": "code",
   "execution_count": 15,
   "metadata": {},
   "outputs": [
    {
     "name": "stdout",
     "output_type": "stream",
     "text": [
      "Best RMSE score attained:  0.8776478697999123\n",
      "{'n_epochs': 20, 'lr_all': 0.005, 'n_factors': 50}\n"
     ]
    }
   ],
   "source": [
    "# now explore best metrics and params\n",
    "print(\"Best RMSE score attained: \", gs.best_score['rmse'])\n",
    "print(gs.best_params['rmse'])"
   ]
  },
  {
   "cell_type": "code",
   "execution_count": null,
   "metadata": {},
   "outputs": [],
   "source": []
  }
 ],
 "metadata": {
  "kernelspec": {
   "display_name": "recommender_systems",
   "language": "python",
   "name": "python3"
  },
  "language_info": {
   "codemirror_mode": {
    "name": "ipython",
    "version": 3
   },
   "file_extension": ".py",
   "mimetype": "text/x-python",
   "name": "python",
   "nbconvert_exporter": "python",
   "pygments_lexer": "ipython3",
   "version": "3.9.19"
  }
 },
 "nbformat": 4,
 "nbformat_minor": 2
}
