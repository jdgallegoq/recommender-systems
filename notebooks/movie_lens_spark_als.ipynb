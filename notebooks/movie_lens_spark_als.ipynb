{
 "cells": [
  {
   "cell_type": "markdown",
   "id": "8434c1b9-ece8-4eca-99f3-3b427a72fc10",
   "metadata": {},
   "source": [
    "# Recommendation systems scaled using Spark\n",
    "Use Alternative Least Squares matrix factorization for making recommendations"
   ]
  },
  {
   "cell_type": "code",
   "execution_count": 14,
   "id": "98affaa0-4777-42c7-bd56-1c90f08a8989",
   "metadata": {},
   "outputs": [],
   "source": [
    "import csv\n",
    "\n",
    "from pyspark.sql import SparkSession\n",
    "from pyspark.ml.evaluation import RegressionEvaluator\n",
    "from pyspark.ml.recommendation import ALS\n",
    "from pyspark.sql import Row"
   ]
  },
  {
   "cell_type": "code",
   "execution_count": 3,
   "id": "c32e4ec6-b3c1-4647-bf33-43e7059d48ae",
   "metadata": {},
   "outputs": [
    {
     "name": "stderr",
     "output_type": "stream",
     "text": [
      "Setting default log level to \"WARN\".\n",
      "To adjust logging level use sc.setLogLevel(newLevel). For SparkR, use setLogLevel(newLevel).\n",
      "24/08/12 21:07:45 WARN NativeCodeLoader: Unable to load native-hadoop library for your platform... using builtin-java classes where applicable\n"
     ]
    }
   ],
   "source": [
    "# define spark session\n",
    "spark = SparkSession.builder.appName(\"ALSExample\").getOrCreate()"
   ]
  },
  {
   "cell_type": "code",
   "execution_count": 5,
   "id": "bebe27a6-4066-4690-8d5d-f4e75eb6ab59",
   "metadata": {},
   "outputs": [],
   "source": [
    "# read file and retrieve\n",
    "lines = spark.read.option(\"header\", \"true\").csv(\"../data/ml-latest-small/ratings.csv\").rdd\n",
    "# define data structure and convert rdd into dataset\n",
    "ratingsRDD = lines.map(\n",
    "    lambda p: Row(\n",
    "        userID=int(p[0]),\n",
    "        movieID=int(p[1]),\n",
    "        rating=float(p[2]),\n",
    "        timestamp=int(p[3])\n",
    "    )\n",
    ")\n",
    "ratings = spark.createDataFrame(ratingsRDD)"
   ]
  },
  {
   "cell_type": "code",
   "execution_count": 7,
   "id": "120465f2-bb0a-433b-a42c-7870236d2911",
   "metadata": {},
   "outputs": [],
   "source": [
    "# define a training and test set\n",
    "(training, test) = ratings.randomSplit([0.8, 0.2])"
   ]
  },
  {
   "cell_type": "code",
   "execution_count": 8,
   "id": "c6d3b9ac-6e2f-4e1f-809e-f6dc99ffd073",
   "metadata": {},
   "outputs": [
    {
     "name": "stderr",
     "output_type": "stream",
     "text": [
      "24/08/12 21:17:18 WARN InstanceBuilder: Failed to load implementation from:dev.ludovic.netlib.blas.JNIBLAS\n",
      "24/08/12 21:17:19 WARN InstanceBuilder: Failed to load implementation from:dev.ludovic.netlib.lapack.JNILAPACK\n"
     ]
    }
   ],
   "source": [
    "# define ALS model instance\n",
    "als = ALS(\n",
    "    maxIter=5,\n",
    "    regParam=0.01,\n",
    "    userCol=\"userID\",\n",
    "    itemCol=\"movieID\",\n",
    "    ratingCol=\"rating\",\n",
    "    coldStartStrategy=\"drop\"\n",
    ")\n",
    "# fit model\n",
    "model = als.fit(training)"
   ]
  },
  {
   "cell_type": "code",
   "execution_count": 11,
   "id": "9ee35762-f04b-4ab7-9cea-f210184793e1",
   "metadata": {},
   "outputs": [
    {
     "name": "stderr",
     "output_type": "stream",
     "text": [
      "[Stage 36:==========================================================(1 + 0) / 1]\r"
     ]
    },
    {
     "name": "stdout",
     "output_type": "stream",
     "text": [
      "Root-mean-square-error = 1.0727645136635104\n"
     ]
    },
    {
     "name": "stderr",
     "output_type": "stream",
     "text": [
      "                                                                                \r"
     ]
    }
   ],
   "source": [
    "# get preds and test\n",
    "preds = model.transform(test)\n",
    "evaluator = RegressionEvaluator(\n",
    "    metricName=\"rmse\",\n",
    "    labelCol=\"rating\",\n",
    "    predictionCol=\"prediction\"\n",
    ")\n",
    "rmse = evaluator.evaluate(preds)\n",
    "print(\"Root-mean-square-error = \"+str(rmse))"
   ]
  },
  {
   "cell_type": "code",
   "execution_count": 12,
   "id": "a28d83e4-d863-4416-8c94-9177738a1ccf",
   "metadata": {},
   "outputs": [
    {
     "name": "stderr",
     "output_type": "stream",
     "text": [
      "                                                                                \r"
     ]
    }
   ],
   "source": [
    "# get some recommendations for user\n",
    "userRecs = model.recommendForAllUsers(10)\n",
    "user85Recs = userRecs.filter(userRecs['userID']==85).collect()"
   ]
  },
  {
   "cell_type": "code",
   "execution_count": 15,
   "id": "15a58d87-374f-489f-9b5c-b0d6a76070f2",
   "metadata": {},
   "outputs": [],
   "source": [
    "# read movies data and get movies names\n",
    "moviesPath = \"../data/ml-latest-small/movies.csv\"\n",
    "# now parse movies dataset\n",
    "movieID_to_name = {}\n",
    "name_to_movieID = {}\n",
    "with open(moviesPath, newline='', encoding='ISO-8859-1') as csvfile:\n",
    "    movieReader = csv.reader(csvfile)\n",
    "    next(movieReader)\n",
    "    for row in movieReader:\n",
    "        movieID = int(row[0])\n",
    "        movieName = row[1]\n",
    "        movieID_to_name[movieID] = movieName\n",
    "        name_to_movieID[movieName] = movieID"
   ]
  },
  {
   "cell_type": "code",
   "execution_count": 16,
   "id": "ee135afb-dd3a-46ee-a5bb-5fd1eb5ae6d4",
   "metadata": {},
   "outputs": [],
   "source": [
    "# funtion to ger movie name based on movie ID\n",
    "def getMovieName(movieID):\n",
    "    if movieID in movieID_to_name:\n",
    "        return movieID_to_name[movieID]\n",
    "    else:\n",
    "        return \"\""
   ]
  },
  {
   "cell_type": "code",
   "execution_count": 17,
   "id": "a659d3b7-9965-4bb5-92c6-46f93633decd",
   "metadata": {},
   "outputs": [
    {
     "name": "stdout",
     "output_type": "stream",
     "text": [
      "Angels and Insects (1995)\n",
      "Hostel (2005)\n",
      "Double Indemnity (1944)\n",
      "Towering Inferno, The (1974)\n",
      "Young Guns II (1990)\n",
      "Vampires (1998)\n",
      "Teenage Mutant Ninja Turtles II: The Secret of the Ooze (1991)\n",
      "Michael Clayton (2007)\n",
      "Glengarry Glen Ross (1992)\n",
      "The Handmaiden (2016)\n"
     ]
    }
   ],
   "source": [
    "for row in user85Recs:\n",
    "    for rec in row.recommendations:\n",
    "        print(getMovieName(rec.movieID))"
   ]
  },
  {
   "cell_type": "code",
   "execution_count": null,
   "id": "c52ea4e5-fc9d-4d13-8727-f7e6558cbf76",
   "metadata": {},
   "outputs": [],
   "source": []
  }
 ],
 "metadata": {
  "kernelspec": {
   "display_name": "Python 3 (ipykernel)",
   "language": "python",
   "name": "python3"
  },
  "language_info": {
   "codemirror_mode": {
    "name": "ipython",
    "version": 3
   },
   "file_extension": ".py",
   "mimetype": "text/x-python",
   "name": "python",
   "nbconvert_exporter": "python",
   "pygments_lexer": "ipython3",
   "version": "3.10.12"
  }
 },
 "nbformat": 4,
 "nbformat_minor": 5
}
