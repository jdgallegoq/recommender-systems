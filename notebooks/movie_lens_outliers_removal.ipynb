{
 "cells": [
  {
   "cell_type": "markdown",
   "metadata": {},
   "source": [
    "# Remove outliers to evaluate impact on final results"
   ]
  },
  {
   "cell_type": "code",
   "execution_count": 15,
   "metadata": {},
   "outputs": [],
   "source": [
    "import re\n",
    "import csv\n",
    "import sys\n",
    "\n",
    "import pandas as pd\n",
    "import numpy as np\n",
    "\n",
    "from surprise import Dataset\n",
    "from surprise import Reader\n",
    "\n",
    "from collections import defaultdict"
   ]
  },
  {
   "cell_type": "code",
   "execution_count": 3,
   "metadata": {},
   "outputs": [],
   "source": [
    "# define some paths to download data\n",
    "ratingsPath = \"../data/ml-latest-small/ratings.csv\"\n",
    "moviesPath = \"../data/ml-latest-small/movies.csv\"\n",
    "\n",
    "# load dataset fitlering outliers from root\n",
    "ratingsDataset = 0\n",
    "ratings = pd.read_csv(ratingsPath, encoding='latin-1')\n",
    "# get ratings by user\n",
    "ratingsByUser = ratings.groupby('userId', as_index=False).agg({\"rating\": \"count\"})\n",
    "# define outlier as 3 std threshold\n",
    "outlierStdDev = 3\n",
    "ratingsByUser['outlier'] = (abs(\n",
    "    ratingsByUser.rating - ratingsByUser.rating.mean() > ratingsByUser.rating.std()*outlierStdDev\n",
    "))\n",
    "ratingsByUser.drop(columns=['rating'], inplace=True)\n",
    "\n",
    "# combine ratings per user and ratings\n",
    "combined = ratings.merge(ratingsByUser, on='userId', how='left')\n",
    "\n",
    "# filter non-outliers df\n",
    "filtered = combined.loc[combined['outlier']==False]\n",
    "filtered = filtered.drop(columns=['outlier', 'timestamp'])"
   ]
  },
  {
   "cell_type": "code",
   "execution_count": 4,
   "metadata": {},
   "outputs": [],
   "source": [
    "# define surprise reader\n",
    "reader = Reader(rating_scale=(1,5))\n",
    "ratingsDataset = Dataset.load_from_df(filtered, reader)"
   ]
  },
  {
   "cell_type": "code",
   "execution_count": 7,
   "metadata": {},
   "outputs": [],
   "source": [
    "# now it is important to get popularity ranks to get some metrics\n",
    "ratings = defaultdict(int)\n",
    "rankings = defaultdict(int)\n",
    "with open(ratingsPath, newline='') as csvfile:\n",
    "    ratingReader = csv.reader(csvfile)\n",
    "    next(ratingReader)\n",
    "    for row in ratingReader:\n",
    "        movieID = int(row[1])\n",
    "        ratings[movieID] += 1\n",
    "    rank = 1\n",
    "    for movieID, ratingCount in sorted(ratings.items(), key=lambda x: x[1], reverse=True):\n",
    "        rankings[movieID] = rank\n",
    "        rank +=1"
   ]
  },
  {
   "cell_type": "code",
   "execution_count": 6,
   "metadata": {},
   "outputs": [],
   "source": [
    "# get movie names and ids\n",
    "movieID_to_name = {}\n",
    "name_to_movieID = {}\n",
    "\n",
    "with open(moviesPath, newline='', encoding='ISO-8859-1') as csvfile:\n",
    "        movieReader = csv.reader(csvfile)\n",
    "        next(movieReader)  #Skip header line\n",
    "        for row in movieReader:\n",
    "            movieID = int(row[0])\n",
    "            movieName = row[1]\n",
    "            movieID_to_name[movieID] = movieName\n",
    "            name_to_movieID[movieName] = movieID"
   ]
  },
  {
   "cell_type": "code",
   "execution_count": 18,
   "metadata": {},
   "outputs": [],
   "source": [
    "def getYears():\n",
    "    p = re.compile(r\"(?:\\((\\d{4})\\))?\\s*$\")\n",
    "    years = defaultdict(int)\n",
    "    with open(moviesPath, newline='', encoding='ISO-8859-1') as csvfile:\n",
    "        movieReader = csv.reader(csvfile)\n",
    "        next(movieReader)\n",
    "        for row in movieReader:\n",
    "            movieID = int(row[0])\n",
    "            title = row[1]\n",
    "            m = p.search(title)\n",
    "            year = m.group(1)\n",
    "            if year:\n",
    "                years[movieID] = int(year)\n",
    "    return years\n",
    "\n",
    "# function to get new movies\n",
    "def getNewMovies():\n",
    "    newMovies = []\n",
    "    years = getYears()\n",
    "    # What's the newest year in our data?\n",
    "    latestYear = max(years.values())\n",
    "    print (\"Newest year is \", latestYear)\n",
    "    for movieID, year in years.items():\n",
    "        if year == latestYear:\n",
    "            newMovies.append(movieID)\n",
    "            #print (self.getMovieName(movieID))\n",
    "    return newMovies"
   ]
  },
  {
   "cell_type": "code",
   "execution_count": 21,
   "metadata": {},
   "outputs": [],
   "source": [
    "import sys\n",
    "import random\n",
    "from operator import itemgetter\n",
    "sys.path.append('..')\n",
    "from Framework.EvaluationData import EvaluationData\n",
    "from Framework.RecommenderMetrics import RecommenderMetrics\n",
    "from surprise import KNNBasic\n",
    "import heapq"
   ]
  },
  {
   "cell_type": "code",
   "execution_count": 10,
   "metadata": {},
   "outputs": [
    {
     "name": "stdout",
     "output_type": "stream",
     "text": [
      "Estimating biases using als...\n",
      "Computing the cosine similarity matrix...\n",
      "Done computing similarity matrix.\n"
     ]
    }
   ],
   "source": [
    "evalData = EvaluationData(ratingsDataset, rankings)\n",
    "# define trainset and leave one out\n",
    "trainSet = evalData.GetLOOCVTrainSet()\n",
    "sim_options = {\n",
    "    'name': 'cosine',\n",
    "    'user_based': True\n",
    "}"
   ]
  },
  {
   "cell_type": "code",
   "execution_count": 11,
   "metadata": {},
   "outputs": [
    {
     "name": "stdout",
     "output_type": "stream",
     "text": [
      "Computing the cosine similarity matrix...\n",
      "Done computing similarity matrix.\n",
      "Computing the cosine similarity matrix...\n",
      "Done computing similarity matrix.\n"
     ]
    }
   ],
   "source": [
    "# define model\n",
    "model = KNNBasic(sim_options=sim_options)\n",
    "model.fit(trainSet)\n",
    "simsMatrix = model.compute_similarities()"
   ]
  },
  {
   "cell_type": "code",
   "execution_count": 19,
   "metadata": {},
   "outputs": [
    {
     "name": "stdout",
     "output_type": "stream",
     "text": [
      "Newest year is  2018\n"
     ]
    }
   ],
   "source": [
    "# get left-out test set\n",
    "leftOutTestSet = evalData.GetLOOCVTestSet()\n",
    "# get new movies rhat need data\n",
    "newMovies = getNewMovies()\n",
    "explorationSlot = 9"
   ]
  },
  {
   "cell_type": "code",
   "execution_count": 22,
   "metadata": {},
   "outputs": [],
   "source": [
    "# build up recommendations\n",
    "topN = defaultdict(list)\n",
    "k = 10\n",
    "for uiid in range(trainSet.n_users):\n",
    "    # get top similar uses similar to current one\n",
    "    similarityRow = simsMatrix[uiid]\n",
    "    similarUsers = []\n",
    "    for innerID, score in enumerate(similarityRow):\n",
    "        if (innerID != uiid):\n",
    "            similarUsers.append((innerID, score))\n",
    "    \n",
    "    kNeighbors = heapq.nlargest(k, similarUsers, key=lambda t: t[1])\n",
    "\n",
    "    # get stuff they liked and add up ratings for each item, weighted by user sim\n",
    "    candidates = defaultdict(float)\n",
    "    for similarUser in kNeighbors:\n",
    "        innerID = similarUser[0]\n",
    "        userSimilarityScore = similarUser[1]\n",
    "        theirRatings = trainSet.ur[innerID]\n",
    "        for rating in theirRatings:\n",
    "            candidates[rating[0]] += (rating[1]/5.0) * userSimilarityScore\n",
    "    \n",
    "    # now get a dict to know what the user already watched\n",
    "    watched = {}\n",
    "    for itemID, rating in trainSet.ur[uiid]:\n",
    "        watched[itemID] = 1\n",
    "    \n",
    "    # get top rated items from similar users\n",
    "    pos = 0\n",
    "    for itemID, rartingSum in sorted(candidates.items(), key=itemgetter(1), reverse=True):\n",
    "        if not itemID in watched:\n",
    "            movieID = 0\n",
    "            if (pos == explorationSlot):\n",
    "                movieID = random.choice(newMovies)\n",
    "            else:\n",
    "                movieID = trainSet.to_raw_iid(itemID)\n",
    "            topN[int(trainSet.to_raw_uid(uiid))].append((int(movieID), 0.0))\n",
    "            pos += 1\n",
    "            if pos > 40:\n",
    "                break"
   ]
  },
  {
   "cell_type": "code",
   "execution_count": 23,
   "metadata": {},
   "outputs": [
    {
     "name": "stdout",
     "output_type": "stream",
     "text": [
      "HR:  0.0587248322147651\n"
     ]
    }
   ],
   "source": [
    "print(\"HR: \", RecommenderMetrics.HitRate(topN, leftOutTestSet))"
   ]
  },
  {
   "cell_type": "code",
   "execution_count": null,
   "metadata": {},
   "outputs": [],
   "source": []
  }
 ],
 "metadata": {
  "kernelspec": {
   "display_name": "recommender_systems",
   "language": "python",
   "name": "python3"
  },
  "language_info": {
   "codemirror_mode": {
    "name": "ipython",
    "version": 3
   },
   "file_extension": ".py",
   "mimetype": "text/x-python",
   "name": "python",
   "nbconvert_exporter": "python",
   "pygments_lexer": "ipython3",
   "version": "3.9.19"
  }
 },
 "nbformat": 4,
 "nbformat_minor": 2
}
