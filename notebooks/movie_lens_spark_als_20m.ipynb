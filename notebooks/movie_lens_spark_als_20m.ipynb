{
 "cells": [
  {
   "cell_type": "markdown",
   "id": "8434c1b9-ece8-4eca-99f3-3b427a72fc10",
   "metadata": {},
   "source": [
    "# Recommendation systems scaled using Spark 20m Movie lens\n",
    "20m Movie lens dataset for this one. </br>\n",
    "Use Alternative Least Squares matrix factorization for making recommendations"
   ]
  },
  {
   "cell_type": "code",
   "execution_count": null,
   "id": "98affaa0-4777-42c7-bd56-1c90f08a8989",
   "metadata": {},
   "outputs": [],
   "source": [
    "import csv\n",
    "import multiprocessing\n",
    "\n",
    "from pyspark.sql import SparkSession\n",
    "from pyspark.ml.evaluation import RegressionEvaluator\n",
    "from pyspark.ml.recommendation import ALS\n",
    "from pyspark.sql import Row"
   ]
  },
  {
   "cell_type": "code",
   "execution_count": null,
   "id": "c32e4ec6-b3c1-4647-bf33-43e7059d48ae",
   "metadata": {},
   "outputs": [],
   "source": [
    "# get number of available cores\n",
    "#cores = str(multiprocessing.cpu_count() - 1)\n",
    "# define spark session\n",
    "spark = SparkSession.builder.appName(\"ALSExample\").config(\"spark.executor.cores\", '8').getOrCreate()"
   ]
  },
  {
   "cell_type": "code",
   "execution_count": null,
   "id": "bebe27a6-4066-4690-8d5d-f4e75eb6ab59",
   "metadata": {},
   "outputs": [],
   "source": [
    "# read file and retrieve\n",
    "lines = spark.read.option(\"header\", \"true\").csv(\"../ml-20m/ratings.csv\").rdd\n",
    "# define data structure and convert rdd into dataset\n",
    "ratingsRDD = lines.map(\n",
    "    lambda p: Row(\n",
    "        userID=int(p[0]),\n",
    "        movieID=int(p[1]),\n",
    "        rating=float(p[2]),\n",
    "        timestamp=int(p[3])\n",
    "    )\n",
    ")\n",
    "ratings = spark.createDataFrame(ratingsRDD)"
   ]
  },
  {
   "cell_type": "code",
   "execution_count": null,
   "id": "120465f2-bb0a-433b-a42c-7870236d2911",
   "metadata": {},
   "outputs": [],
   "source": [
    "# define a training and test set\n",
    "(training, test) = ratings.randomSplit([0.8, 0.2])"
   ]
  },
  {
   "cell_type": "code",
   "execution_count": null,
   "id": "c6d3b9ac-6e2f-4e1f-809e-f6dc99ffd073",
   "metadata": {},
   "outputs": [],
   "source": [
    "# define ALS model instance\n",
    "als = ALS(\n",
    "    maxIter=5,\n",
    "    regParam=0.01,\n",
    "    userCol=\"userID\",\n",
    "    itemCol=\"movieID\",\n",
    "    ratingCol=\"rating\",\n",
    "    coldStartStrategy=\"drop\"\n",
    ")\n",
    "# fit model\n",
    "model = als.fit(training)"
   ]
  },
  {
   "cell_type": "code",
   "execution_count": null,
   "id": "9ee35762-f04b-4ab7-9cea-f210184793e1",
   "metadata": {},
   "outputs": [],
   "source": [
    "# get preds and test\n",
    "preds = model.transform(test)\n",
    "evaluator = RegressionEvaluator(\n",
    "    metricName=\"rmse\",\n",
    "    labelCol=\"rating\",\n",
    "    predictionCol=\"prediction\"\n",
    ")\n",
    "rmse = evaluator.evaluate(preds)\n",
    "print(\"Root-mean-square-error = \"+str(rmse))"
   ]
  },
  {
   "cell_type": "code",
   "execution_count": null,
   "id": "a28d83e4-d863-4416-8c94-9177738a1ccf",
   "metadata": {},
   "outputs": [],
   "source": [
    "# get some recommendations for user\n",
    "userRecs = model.recommendForAllUsers(10)\n",
    "user85Recs = userRecs.filter(userRecs['userID']==85).collect()"
   ]
  },
  {
   "cell_type": "code",
   "execution_count": null,
   "id": "15a58d87-374f-489f-9b5c-b0d6a76070f2",
   "metadata": {},
   "outputs": [],
   "source": [
    "# read movies data and get movies names\n",
    "moviesPath = \"../data/ml-latest-small/movies.csv\"\n",
    "# now parse movies dataset\n",
    "movieID_to_name = {}\n",
    "name_to_movieID = {}\n",
    "with open(moviesPath, newline='', encoding='ISO-8859-1') as csvfile:\n",
    "    movieReader = csv.reader(csvfile)\n",
    "    next(movieReader)\n",
    "    for row in movieReader:\n",
    "        movieID = int(row[0])\n",
    "        movieName = row[1]\n",
    "        movieID_to_name[movieID] = movieName\n",
    "        name_to_movieID[movieName] = movieID"
   ]
  },
  {
   "cell_type": "code",
   "execution_count": null,
   "id": "ee135afb-dd3a-46ee-a5bb-5fd1eb5ae6d4",
   "metadata": {},
   "outputs": [],
   "source": [
    "# funtion to ger movie name based on movie ID\n",
    "def getMovieName(movieID):\n",
    "    if movieID in movieID_to_name:\n",
    "        return movieID_to_name[movieID]\n",
    "    else:\n",
    "        return \"\""
   ]
  },
  {
   "cell_type": "code",
   "execution_count": null,
   "id": "a659d3b7-9965-4bb5-92c6-46f93633decd",
   "metadata": {},
   "outputs": [],
   "source": [
    "for row in user85Recs:\n",
    "    for rec in row.recommendations:\n",
    "        print(getMovieName(rec.movieID))"
   ]
  },
  {
   "cell_type": "code",
   "execution_count": null,
   "id": "c52ea4e5-fc9d-4d13-8727-f7e6558cbf76",
   "metadata": {},
   "outputs": [],
   "source": []
  }
 ],
 "metadata": {
  "kernelspec": {
   "display_name": "Python 3 (ipykernel)",
   "language": "python",
   "name": "python3"
  },
  "language_info": {
   "codemirror_mode": {
    "name": "ipython",
    "version": 3
   },
   "file_extension": ".py",
   "mimetype": "text/x-python",
   "name": "python",
   "nbconvert_exporter": "python",
   "pygments_lexer": "ipython3",
   "version": "3.10.12"
  }
 },
 "nbformat": 4,
 "nbformat_minor": 5
}
