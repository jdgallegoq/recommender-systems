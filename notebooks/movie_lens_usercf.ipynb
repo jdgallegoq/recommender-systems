{
 "cells": [
  {
   "cell_type": "markdown",
   "metadata": {},
   "source": [
    "# Collaborative Filtering User Based"
   ]
  },
  {
   "cell_type": "code",
   "execution_count": 1,
   "metadata": {},
   "outputs": [],
   "source": [
    "import csv\n",
    "import heapq\n",
    "from surprise import KNNBasic\n",
    "\n",
    "from surprise import Dataset\n",
    "from surprise import Reader\n",
    "\n",
    "from collections import defaultdict\n",
    "from operator import itemgetter"
   ]
  },
  {
   "cell_type": "markdown",
   "metadata": {},
   "source": [
    "## Load data"
   ]
  },
  {
   "cell_type": "code",
   "execution_count": 2,
   "metadata": {},
   "outputs": [],
   "source": [
    "# define some paths to download data\n",
    "ratingsPath = \"../data/ml-latest-small/ratings.csv\"\n",
    "moviesPath = \"../data/ml-latest-small/movies.csv\""
   ]
  },
  {
   "cell_type": "code",
   "execution_count": 3,
   "metadata": {},
   "outputs": [],
   "source": [
    "# define reader instance to download data\n",
    "reader = Reader(line_format='user item rating timestamp', sep=',', skip_lines=1)\n",
    "# download dataset to path\n",
    "ratingsDataset = Dataset.load_from_file(ratingsPath, reader=reader)\n",
    "ratingsDataset = ratingsDataset.build_full_trainset()"
   ]
  },
  {
   "cell_type": "code",
   "execution_count": 4,
   "metadata": {},
   "outputs": [],
   "source": [
    "# read movies info\n",
    "movieID_to_name = {}\n",
    "name_to_movieID = {}\n",
    "with open(moviesPath, newline='', encoding='ISO-8859-1') as csvfile:\n",
    "    movieReader = csv.reader(csvfile)\n",
    "    next(movieReader)  #Skip header line\n",
    "    for row in movieReader:\n",
    "        movieID = int(row[0])\n",
    "        movieName = row[1]\n",
    "        movieID_to_name[movieID] = movieName\n",
    "        name_to_movieID[movieName] = movieID"
   ]
  },
  {
   "cell_type": "code",
   "execution_count": 5,
   "metadata": {},
   "outputs": [],
   "source": [
    "# define function to get movie name\n",
    "def getMovieName(movieID):\n",
    "    if movieID in movieID_to_name:\n",
    "        return movieID_to_name[movieID]\n",
    "    else:\n",
    "        return \"\""
   ]
  },
  {
   "cell_type": "code",
   "execution_count": 6,
   "metadata": {},
   "outputs": [
    {
     "name": "stdout",
     "output_type": "stream",
     "text": [
      "Computing the cosine similarity matrix...\n",
      "Done computing similarity matrix.\n",
      "Computing the cosine similarity matrix...\n",
      "Done computing similarity matrix.\n"
     ]
    }
   ],
   "source": [
    "# define similarity options and get similarity matrix\n",
    "sim_options = {\n",
    "    'name': 'cosine',\n",
    "    'user_based': True\n",
    "}\n",
    "\n",
    "model = KNNBasic(sim_options=sim_options)\n",
    "model.fit(ratingsDataset)\n",
    "simsMatrix = model.compute_similarities()"
   ]
  },
  {
   "cell_type": "code",
   "execution_count": 7,
   "metadata": {},
   "outputs": [],
   "source": [
    "# now get top-N recommendations for a test user\n",
    "testSubject = '85'\n",
    "k = 10\n",
    "\n",
    "testUserInnerID = ratingsDataset.to_inner_uid(testSubject)\n",
    "similarityRow = simsMatrix[testUserInnerID]\n",
    "\n",
    "# loop over all users and start appending ids and scores\n",
    "similarUsers = []\n",
    "for innerID, score in enumerate(similarityRow):\n",
    "    if (innerID != testUserInnerID):\n",
    "        similarUsers.append((innerID, score))\n",
    "\n",
    "# get neighbors based on defined k\n",
    "kNeighbors = heapq.nlargest(k, similarUsers, key= lambda t: t[1])"
   ]
  },
  {
   "cell_type": "code",
   "execution_count": 8,
   "metadata": {},
   "outputs": [],
   "source": [
    "# get what users rated, and add up ratings for each item, weight by user similarity\n",
    "candidates = defaultdict(float)\n",
    "for similarUsers in kNeighbors:\n",
    "    innerID = similarUsers[0]\n",
    "    userSimilarityScore = similarUsers[1]\n",
    "    theirRatings = ratingsDataset.ur[innerID]\n",
    "    for rating in theirRatings:\n",
    "        candidates[rating[0]] += (rating[1]/0.5) * userSimilarityScore"
   ]
  },
  {
   "cell_type": "code",
   "execution_count": 9,
   "metadata": {},
   "outputs": [
    {
     "name": "stdout",
     "output_type": "stream",
     "text": [
      "Gladiator (2000) 46.0\n",
      "Raiders of the Lost Ark (Indiana Jones and the Raiders of the Lost Ark) (1981) 45.0\n",
      "Forrest Gump (1994) 41.0\n",
      "Shawshank Redemption, The (1994) 41.0\n",
      "Pulp Fiction (1994) 36.0\n",
      "Matrix, The (1999) 36.0\n",
      "Seven (a.k.a. Se7en) (1995) 35.0\n",
      "Groundhog Day (1993) 35.0\n",
      "Silence of the Lambs, The (1991) 33.0\n",
      "Saving Private Ryan (1998) 33.0\n",
      "Inception (2010) 33.0\n"
     ]
    }
   ],
   "source": [
    "# build a dictionary of what the test subject has already seen\n",
    "watched = {}\n",
    "for itemID, rating in ratingsDataset.ur[testUserInnerID]:\n",
    "    watched[itemID] = 1\n",
    "\n",
    "# get top-rated items from similar users\n",
    "# making exceptions on what the user already watched\n",
    "pos = 0\n",
    "for itemID, ratingSum in sorted(candidates.items(), key=itemgetter(1), reverse=True):\n",
    "    if not itemID in watched:\n",
    "        movieID = ratingsDataset.to_raw_iid(itemID)\n",
    "        print(getMovieName(int(movieID)), ratingSum)\n",
    "        # this is just a counter to know how many recomendations we want to get\n",
    "        pos += 1\n",
    "        if (pos>10):\n",
    "            break"
   ]
  },
  {
   "cell_type": "markdown",
   "metadata": {},
   "source": [
    "### Change scope and get all similarities greater than a given threshold"
   ]
  },
  {
   "cell_type": "code",
   "execution_count": 14,
   "metadata": {},
   "outputs": [
    {
     "name": "stdout",
     "output_type": "stream",
     "text": [
      "Shawshank Redemption, The (1994) 1504.4839843842892\n",
      "Forrest Gump (1994) 1452.938805899866\n",
      "Pulp Fiction (1994) 1329.5116674780227\n",
      "Silence of the Lambs, The (1991) 1219.042003613118\n",
      "Matrix, The (1999) 1165.2718478662239\n",
      "Fight Club (1999) 1037.5782744691207\n",
      "Star Wars: Episode IV - A New Hope (1977) 992.4290967275864\n",
      "Usual Suspects, The (1995) 970.0323711422451\n",
      "Braveheart (1995) 906.9021189997444\n",
      "Star Wars: Episode V - The Empire Strikes Back (1980) 886.2064437079686\n",
      "Jurassic Park (1993) 862.2868512854004\n"
     ]
    }
   ],
   "source": [
    "# loop over all users and start appending ids and scores\n",
    "similarUsers = []\n",
    "for innerID, score in enumerate(similarityRow):\n",
    "    if (innerID != testUserInnerID):\n",
    "        similarUsers.append((innerID, score))\n",
    "        \n",
    "kNeighbors = []\n",
    "for rating in similarUsers:\n",
    "    if rating[1] > 0.95:\n",
    "        kNeighbors.append(rating)\n",
    "\n",
    "# get what users rated, and add up ratings for each item, weight by user similarity\n",
    "candidates = defaultdict(float)\n",
    "for similarUsers in kNeighbors:\n",
    "    innerID = similarUsers[0]\n",
    "    userSimilarityScore = similarUsers[1]\n",
    "    theirRatings = ratingsDataset.ur[innerID]\n",
    "    for rating in theirRatings:\n",
    "        candidates[rating[0]] += (rating[1]/0.5) * userSimilarityScore\n",
    "\n",
    "# get top-rated items from similar users\n",
    "# making exceptions on what the user already watched\n",
    "pos = 0\n",
    "for itemID, ratingSum in sorted(candidates.items(), key=itemgetter(1), reverse=True):\n",
    "    if not itemID in watched:\n",
    "        movieID = ratingsDataset.to_raw_iid(itemID)\n",
    "        print(getMovieName(int(movieID)), ratingSum)\n",
    "        # this is just a counter to know how many recomendations we want to get\n",
    "        pos += 1\n",
    "        if (pos>10):\n",
    "            break"
   ]
  },
  {
   "cell_type": "markdown",
   "metadata": {},
   "source": [
    "## Evaluate approach"
   ]
  },
  {
   "cell_type": "code",
   "execution_count": 27,
   "metadata": {},
   "outputs": [],
   "source": [
    "import sys\n",
    "sys.path.append('..')\n",
    "from Framework.EvaluationData import EvaluationData\n",
    "from Framework.RecommenderMetrics import RecommenderMetrics\n",
    "\n",
    "from surprise.model_selection import LeaveOneOut"
   ]
  },
  {
   "cell_type": "code",
   "execution_count": 29,
   "metadata": {},
   "outputs": [
    {
     "name": "stdout",
     "output_type": "stream",
     "text": [
      "Estimating biases using als...\n",
      "Computing the cosine similarity matrix...\n",
      "Done computing similarity matrix.\n"
     ]
    }
   ],
   "source": [
    "# get rankings and ratings based on data\n",
    "ratingsDataset = Dataset.load_from_file(ratingsPath, reader=reader)\n",
    "ratings = defaultdict(int)\n",
    "rankings = defaultdict(int)\n",
    "with open(ratingsPath, newline='') as csvfile:\n",
    "    ratingReader = csv.reader(csvfile)\n",
    "    next(ratingReader)\n",
    "    for row in ratingReader:\n",
    "        movieID = int(row[1])\n",
    "        ratings[movieID] += 1\n",
    "    rank = 1\n",
    "    for movieID, ratingCount in sorted(ratings.items(), key=lambda x: x[1], reverse=True):\n",
    "        rankings[movieID] = rank\n",
    "        rank +=1\n",
    "\n",
    "# define evaluation data based on original data\n",
    "evalData = EvaluationData(ratingsDataset, rankings)"
   ]
  },
  {
   "cell_type": "code",
   "execution_count": 30,
   "metadata": {},
   "outputs": [
    {
     "name": "stdout",
     "output_type": "stream",
     "text": [
      "Computing the cosine similarity matrix...\n",
      "Done computing similarity matrix.\n",
      "Computing the cosine similarity matrix...\n",
      "Done computing similarity matrix.\n"
     ]
    }
   ],
   "source": [
    "# train on leave-one-out\n",
    "trainSet = evalData.GetLOOCVTrainSet()\n",
    "sim_options = {\n",
    "    'name': 'cosine',\n",
    "    'user_based': True\n",
    "}\n",
    "model.fit(trainSet)\n",
    "simsMatrix = model.compute_similarities()"
   ]
  },
  {
   "cell_type": "code",
   "execution_count": 32,
   "metadata": {},
   "outputs": [],
   "source": [
    "leftOutTestSet = evalData.GetLOOCVTestSet()\n",
    "# build dict to lists of (int(movieID), predictedrating) pairs\n",
    "topN = defaultdict(list)\n",
    "k = 10\n",
    "for uiid in range(trainSet.n_users):\n",
    "    # get top N similar users to test subject\n",
    "    similarityRow = simsMatrix[uiid]\n",
    "    similarUsers = []\n",
    "    for innerID, score in enumerate(similarityRow):\n",
    "        if (innerID != uiid):\n",
    "            similarUsers.append((innerID, score))\n",
    "    \n",
    "    kNeighbors = heapq.nlargest(k, similarUsers, key=lambda t: t[1])\n",
    "    # get candidates weighted by user rating\n",
    "    candidates = defaultdict(float)\n",
    "    for similarUser in kNeighbors:\n",
    "        innerID = similarUser[0]\n",
    "        userSimilarityScore = similarUser[1]\n",
    "        theirRatings = trainSet.ur[innerID]\n",
    "        for rating in theirRatings:\n",
    "            candidates[rating[0]] += (rating[1]/5.0) * userSimilarityScore\n",
    "    \n",
    "    # build a dict of stuff the user already watched\n",
    "    watched = {}\n",
    "    for itemID, rating in trainSet.ur[uiid]:\n",
    "        watched[itemID] = 1\n",
    "    \n",
    "    # get top-rated items from similar users\n",
    "    pos = 0\n",
    "    for itemID, ratingSum in sorted(candidates.items(), key=itemgetter(1), reverse=True):\n",
    "        if not itemID in watched:\n",
    "            movieID = trainSet.to_raw_iid(itemID)\n",
    "            topN[int(trainSet.to_raw_uid(uiid))].append((int(movieID), 0.0))\n",
    "            pos += 1\n",
    "            if (pos > 40):\n",
    "                break"
   ]
  },
  {
   "cell_type": "code",
   "execution_count": 33,
   "metadata": {},
   "outputs": [
    {
     "name": "stdout",
     "output_type": "stream",
     "text": [
      "hit-rate 0.05081967213114754\n"
     ]
    }
   ],
   "source": [
    "# print hit-rate or mesure of interest\n",
    "print(\"hit-rate\", RecommenderMetrics.HitRate(topN, leftOutTestSet))"
   ]
  }
 ],
 "metadata": {
  "kernelspec": {
   "display_name": "recommender_systems",
   "language": "python",
   "name": "python3"
  },
  "language_info": {
   "codemirror_mode": {
    "name": "ipython",
    "version": 3
   },
   "file_extension": ".py",
   "mimetype": "text/x-python",
   "name": "python",
   "nbconvert_exporter": "python",
   "pygments_lexer": "ipython3",
   "version": "3.9.19"
  }
 },
 "nbformat": 4,
 "nbformat_minor": 2
}
